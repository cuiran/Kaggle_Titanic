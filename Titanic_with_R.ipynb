{
 "cells": [
  {
   "cell_type": "markdown",
   "metadata": {},
   "source": [
    "# Introduction"
   ]
  },
  {
   "cell_type": "markdown",
   "metadata": {},
   "source": [
    "I used random forest algorithm to make predictions for this challenge. First, I created some simple features according to the given data. I then used mice to imputate missing data, specifically, the missing age data. In the second round of feature engineering, we used the full age data (and other things) to create some more features. \n",
    "\n",
    "The final stage is feature selection and prediction. The resulting Kaggle score of this model is 0.80383 which put it to the top 18% of all submissions.\n",
    "\n",
    "I thank Megan L. Risdal for her script that inspired me."
   ]
  },
  {
   "cell_type": "markdown",
   "metadata": {},
   "source": [
    "# 1.  Loading Data and Libraries"
   ]
  },
  {
   "cell_type": "code",
   "execution_count": null,
   "metadata": {
    "collapsed": false
   },
   "outputs": [],
   "source": [
    "library(plyr)\n",
    "library(rpart)\n",
    "library(randomForest)\n",
    "library(ggplot2)\n",
    "library(mice)"
   ]
  },
  {
   "cell_type": "code",
   "execution_count": null,
   "metadata": {
    "collapsed": false
   },
   "outputs": [],
   "source": [
    "train <- read.csv(\"train.csv\", na.string = \"\")\n",
    "test <- read.csv(\"test.csv\", na.string = \"\")\n",
    "test$Survived <- NA\n",
    "all_data <- rbind(train, test)"
   ]
  },
  {
   "cell_type": "markdown",
   "metadata": {},
   "source": [
    "# 2. Feature Engineering"
   ]
  },
  {
   "cell_type": "markdown",
   "metadata": {},
   "source": [
    "## 2.1 Title"
   ]
  },
  {
   "cell_type": "code",
   "execution_count": null,
   "metadata": {
    "collapsed": false
   },
   "outputs": [],
   "source": [
    "# Extract Title form name\n",
    "all_data$Title <- gsub('(.*, )|(\\\\..*)', '', all_data$Name)"
   ]
  },
  {
   "cell_type": "code",
   "execution_count": null,
   "metadata": {
    "collapsed": false
   },
   "outputs": [],
   "source": [
    "#Show title counts by sex\n",
    "print(table(all_data$Sex, all_data$Title))"
   ]
  },
  {
   "cell_type": "code",
   "execution_count": null,
   "metadata": {
    "collapsed": false,
    "scrolled": true
   },
   "outputs": [],
   "source": [
    "all_data$Title <- mapvalues(all_data$Title, from = c(\"Mlle\", \"Col\", \"Major\", \"Jonkheer\", \"Don\", \"Mme\", \"Capt\", \n",
    "                                                     \"the Countess\", \"Ms\", \"Dona\"), \n",
    "                            to = c(\"Miss\", \"Officer\", \"Officer\", \"Sir\", \"Sir\", \"Mrs\", \"Officer\", \n",
    "                                   \"Lady\", \"Mrs\", \"Mrs\"))\n",
    "all_data$Title <- factor(all_data$Title)\n",
    "print(unique(all_data$Title))"
   ]
  },
  {
   "cell_type": "code",
   "execution_count": null,
   "metadata": {
    "collapsed": true
   },
   "outputs": [],
   "source": [
    "# Separate the last names from names\n",
    "all_data$SplitName <- strsplit(as.character(all_data$Name), \",\" )\n",
    "all_data$LastName <- sapply(all_data$SplitName, \"[\", 1)"
   ]
  },
  {
   "cell_type": "markdown",
   "metadata": {},
   "source": [
    "## 2.2 Family Size"
   ]
  },
  {
   "cell_type": "code",
   "execution_count": null,
   "metadata": {
    "collapsed": true
   },
   "outputs": [],
   "source": [
    "all_data$FamilySize <- all_data$SibSp + all_data$Parch + 1\n",
    "all_data$Family <- paste(all_data$LastName, all_data$FamilySize, sep = \"_\")"
   ]
  },
  {
   "cell_type": "code",
   "execution_count": null,
   "metadata": {
    "collapsed": false,
    "scrolled": true
   },
   "outputs": [],
   "source": [
    "# Plot family size v.s. survival\n",
    "ggplot(all_data[1:891,], aes(x = FamilySize, fill = factor(Survived))) +\n",
    "  geom_bar(position='dodge')"
   ]
  },
  {
   "cell_type": "markdown",
   "metadata": {},
   "source": [
    "Because there are fewer large families and they perform similarly, it's useful to group some together."
   ]
  },
  {
   "cell_type": "code",
   "execution_count": null,
   "metadata": {
    "collapsed": false
   },
   "outputs": [],
   "source": [
    "# Discretize family size\n",
    "all_data$FsizeD[all_data$FamilySize == 1] <- 1\n",
    "all_data$FsizeD[all_data$FamilySize < 5 & all_data$FamilySize > 1] <- 2\n",
    "all_data$FsizeD[all_data$FamilySize > 4] <- 3\n",
    "\n",
    "# Show family size by survival using a mosaic plot\n",
    "mosaicplot(table(all_data$FsizeD, all_data$Survived), main='Family Size by Survival', shade=TRUE)"
   ]
  },
  {
   "cell_type": "markdown",
   "metadata": {},
   "source": [
    "## 2.3 Missing Age and Cabin"
   ]
  },
  {
   "cell_type": "markdown",
   "metadata": {},
   "source": [
    "Sometimes the missingness of data can be a clue too. We create a feature called \"MissingAgeCabin\" to indicate if a person is missing both Age and Cabin data."
   ]
  },
  {
   "cell_type": "code",
   "execution_count": null,
   "metadata": {
    "collapsed": true
   },
   "outputs": [],
   "source": [
    "all_data$MissingAgeCabin[(is.na(all_data$Age))&(is.na(all_data$Cabin))] <- 1\n",
    "all_data$MissingAgeCabin[(!is.na(all_data$Age)) | (!is.na(all_data$Cabin))] <- 0"
   ]
  },
  {
   "cell_type": "markdown",
   "metadata": {},
   "source": [
    "## 2.4 Ticket Group Size"
   ]
  },
  {
   "cell_type": "markdown",
   "metadata": {},
   "source": [
    "Notice some of these ticket numbers are the same. They might have bought the tickets at the same time. So they might be related or they might be friends. Create a feature called \"TicketGroupSize\" to indicate the size of group of people who share the same Ticket number."
   ]
  },
  {
   "cell_type": "code",
   "execution_count": null,
   "metadata": {
    "collapsed": true
   },
   "outputs": [],
   "source": [
    "all_data$TicketGroupSize <- mapvalues(all_data$Ticket, from = as.vector(as.data.frame(table(all_data$Ticket))$Var1),\n",
    "                                     to = as.vector(as.data.frame(table(all_data$Ticket))$Freq))"
   ]
  },
  {
   "cell_type": "markdown",
   "metadata": {},
   "source": [
    "# 3. Fill in Missing Data"
   ]
  },
  {
   "cell_type": "markdown",
   "metadata": {},
   "source": [
    "## 3.1 Embarked"
   ]
  },
  {
   "cell_type": "markdown",
   "metadata": {},
   "source": [
    "See first whose Embarked data is missing."
   ]
  },
  {
   "cell_type": "code",
   "execution_count": null,
   "metadata": {
    "collapsed": false
   },
   "outputs": [],
   "source": [
    "print(all_data[is.na(all_data$Embarked),])"
   ]
  },
  {
   "cell_type": "markdown",
   "metadata": {},
   "source": [
    "It looks like only passenger 62 and 830 has missing Embarked data. They are both female, and their ticket fare are both 80 and they also have the same Ticket number. So it's likely that they embarked at the same place. "
   ]
  },
  {
   "cell_type": "code",
   "execution_count": null,
   "metadata": {
    "collapsed": false
   },
   "outputs": [],
   "source": [
    "ggplot(all_data[(!is.na(all_data$Embarked))&(!is.na(all_data$Fare)),], \n",
    "       aes(x = Embarked, y = Fare, fill = factor(Pclass))) +\n",
    "  geom_boxplot()"
   ]
  },
  {
   "cell_type": "markdown",
   "metadata": {},
   "source": [
    "From the plot, it's more likely that they departed from port \"C\" based on the fare they paid. "
   ]
  },
  {
   "cell_type": "code",
   "execution_count": null,
   "metadata": {
    "collapsed": true
   },
   "outputs": [],
   "source": [
    "# Fill the Embarked data with \"C\"\n",
    "all_data$Embarked[is.na(all_data$Embarked)] <- 'C'"
   ]
  },
  {
   "cell_type": "code",
   "execution_count": null,
   "metadata": {
    "collapsed": true
   },
   "outputs": [],
   "source": [
    "# Fill in the one missing Fare value\n",
    "all_data$Fare[1044] <- median(all_data[all_data$Pclass == '3' & all_data$Embarked == 'C', ]$Fare, na.rm = TRUE)"
   ]
  },
  {
   "cell_type": "code",
   "execution_count": null,
   "metadata": {
    "collapsed": false
   },
   "outputs": [],
   "source": [
    "print(all_data$Embarked[is.na(all_data$Embarked)])"
   ]
  },
  {
   "cell_type": "markdown",
   "metadata": {},
   "source": [
    "## 3.2 Age"
   ]
  },
  {
   "cell_type": "markdown",
   "metadata": {},
   "source": [
    "There are quite a bit of missing age data."
   ]
  },
  {
   "cell_type": "code",
   "execution_count": null,
   "metadata": {
    "collapsed": false
   },
   "outputs": [],
   "source": [
    "print(sum(is.na(all_data$Age)))"
   ]
  },
  {
   "cell_type": "markdown",
   "metadata": {},
   "source": [
    "We give two ways of filling in the missing data. One using random forest, the other using mice. Mice performs better than random forest."
   ]
  },
  {
   "cell_type": "code",
   "execution_count": null,
   "metadata": {
    "collapsed": false
   },
   "outputs": [],
   "source": [
    "# # Set a random seed\n",
    "# set.seed(129)\n",
    "\n",
    "# # Perform random forest to imputate Age\n",
    "# predicted_age <- randomForest(Age ~ Pclass + Sex + SibSp + Parch + Fare + Embarked + Title + FamilySize,\n",
    "#                        data = all_data[!is.na(all_data$Age),], ntree = 1000)\n",
    "# all_data$Age[is.na(all_data$Age)] <- predict(predicted_age, all_data[is.na(all_data$Age),])"
   ]
  },
  {
   "cell_type": "code",
   "execution_count": null,
   "metadata": {
    "collapsed": false
   },
   "outputs": [],
   "source": [
    "# Use mice to imputate Age \n",
    "# Make variables factors into factors\n",
    "factor_vars <- c('PassengerId','Pclass','Sex','Embarked',\n",
    "                 'Title','LastName','Family','FsizeD')\n",
    "\n",
    "all_data[factor_vars] <- lapply(all_data[factor_vars], function(x) as.factor(x))\n",
    "\n",
    "# Set a random seed\n",
    "set.seed(129)\n",
    "# Perform mice imputation, excluding certain less-than-useful variables:\n",
    "mice_mod <- mice(all_data[, !names(all_data) %in% \n",
    "                          c('PassengerId','Name','Ticket','Cabin','Family','LastName','Survived','SplitName')], \n",
    "                 method='rf') \n",
    "# Save the complete output \n",
    "mice_output <- complete(mice_mod)\n",
    "# Replace Age variable from the mice model.\n",
    "all_data$Age <- mice_output$Age\n",
    "\n",
    "par(mfrow=c(1,2))\n",
    "hist(all_data$Age, freq=F, main='Age: Original Data', \n",
    "  col='darkgreen', ylim=c(0,0.04))\n",
    "hist(mice_output$Age, freq=F, main='Age: MICE Output', \n",
    "  col='lightgreen', ylim=c(0,0.04))"
   ]
  },
  {
   "cell_type": "code",
   "execution_count": null,
   "metadata": {
    "collapsed": false
   },
   "outputs": [],
   "source": [
    "# Show new number of missing Age values\n",
    "sum(is.na(all_data$Age))"
   ]
  },
  {
   "cell_type": "code",
   "execution_count": null,
   "metadata": {
    "collapsed": false,
    "scrolled": true
   },
   "outputs": [],
   "source": [
    "# We look at the relation between age and survival\n",
    "ggplot(all_data[1:891,], aes(Age, fill = factor(Survived))) + \n",
    "  geom_histogram()"
   ]
  },
  {
   "cell_type": "markdown",
   "metadata": {
    "collapsed": true
   },
   "source": [
    "# 4. Age Related Feature Engineering"
   ]
  },
  {
   "cell_type": "code",
   "execution_count": null,
   "metadata": {
    "collapsed": true
   },
   "outputs": [],
   "source": [
    "# Create a Child feature\n",
    "all_data$Child[all_data$Age < 10] <- \"Child\"\n",
    "all_data$Child[all_data$Age >= 10]<- \"Adult\""
   ]
  },
  {
   "cell_type": "code",
   "execution_count": null,
   "metadata": {
    "collapsed": true
   },
   "outputs": [],
   "source": [
    "# Create a Mother feature\n",
    "all_data$Mother <- 'Not Mother'\n",
    "all_data$Mother[all_data$Sex == 'female' & all_data$Parch > 0 & all_data$Age > 18 & all_data$Title != 'Miss'] <- 'Mother'"
   ]
  },
  {
   "cell_type": "code",
   "execution_count": null,
   "metadata": {
    "collapsed": true
   },
   "outputs": [],
   "source": [
    "# Factor the features\n",
    "all_data$Child  <- factor(all_data$Child)\n",
    "all_data$Mother <- factor(all_data$Mother)\n",
    "all_data$Fsized <- factor(all_data$FsizeD)"
   ]
  },
  {
   "cell_type": "markdown",
   "metadata": {},
   "source": [
    "# 5. Model"
   ]
  },
  {
   "cell_type": "code",
   "execution_count": null,
   "metadata": {
    "collapsed": true
   },
   "outputs": [],
   "source": [
    "train_filled <- data.frame(all_data[1:891,],stringsAsFactors = TRUE)\n",
    "test_filled <- data.frame(all_data[892:1309,],stringsAsFactors = TRUE)"
   ]
  },
  {
   "cell_type": "code",
   "execution_count": null,
   "metadata": {
    "collapsed": false
   },
   "outputs": [],
   "source": [
    "# See all features\n",
    "print(colnames(train_filled))"
   ]
  },
  {
   "cell_type": "code",
   "execution_count": null,
   "metadata": {
    "collapsed": false
   },
   "outputs": [],
   "source": [
    "set.seed(754)\n",
    "\n",
    "# Build the model (note: not all possible variables are used)\n",
    "rf_full <- randomForest(as.factor(Survived) ~ Pclass + Sex + Age + SibSp + Parch + \n",
    "                                            Fare + Embarked + Title + Child + Mother + FsizeD + \n",
    "                                            TicketGroupSize + MissingAgeCabin,\n",
    "                                            data = train_filled, importance = TRUE, proximity=TRUE, do.trace= TRUE,\n",
    "                                            ntree = 1000, nodesize = 100)\n",
    "\n",
    "# Show model error\n",
    "plot(rf_full, ylim=c(0,0.36))\n",
    "legend('topright', colnames(rf_full$err.rate), col=1:3, fill=1:3)"
   ]
  },
  {
   "cell_type": "markdown",
   "metadata": {},
   "source": [
    "## 5.1 Feature Selection"
   ]
  },
  {
   "cell_type": "code",
   "execution_count": null,
   "metadata": {
    "collapsed": false
   },
   "outputs": [],
   "source": [
    "print(varImpPlot(rf_full))"
   ]
  },
  {
   "cell_type": "markdown",
   "metadata": {},
   "source": [
    "Select the features Title, Sex, Pclass, TicketGroupSize, FsizeD, Fare, Child. This selection is made after a few rounds of trial and error together with some gussing based on common sense..."
   ]
  },
  {
   "cell_type": "code",
   "execution_count": null,
   "metadata": {
    "collapsed": false
   },
   "outputs": [],
   "source": [
    "set.seed(754)\n",
    "\n",
    "# Build the model (note: not all possible variables are used)\n",
    "my_forest <- randomForest(as.factor(Survived) ~ Title + Sex + Pclass + TicketGroupSize + FsizeD + SibSp + Child,\n",
    "                                            data = train_filled, importance = TRUE, proximity=TRUE, do.trace= TRUE,\n",
    "                                            ntree = 1000, nodesize = 100)\n"
   ]
  },
  {
   "cell_type": "markdown",
   "metadata": {},
   "source": [
    "# 6. Prediction"
   ]
  },
  {
   "cell_type": "code",
   "execution_count": null,
   "metadata": {
    "collapsed": true
   },
   "outputs": [],
   "source": [
    "# Predict using the test set\n",
    "prediction <- predict(my_forest, test_filled)\n",
    "\n",
    "# Save the solution to a dataframe with two columns: PassengerId and Survived (prediction)\n",
    "solution <- data.frame(PassengerID = test$PassengerId, Survived = prediction)\n",
    "\n",
    "# Write the solution to file\n",
    "write.csv(solution, file = 'improved_R_Solution.csv', row.names = FALSE)"
   ]
  }
 ],
 "metadata": {
  "kernelspec": {
   "display_name": "R",
   "language": "R",
   "name": "ir"
  },
  "language_info": {
   "codemirror_mode": "r",
   "file_extension": ".r",
   "mimetype": "text/x-r-source",
   "name": "R",
   "pygments_lexer": "r",
   "version": "3.2.2"
  }
 },
 "nbformat": 4,
 "nbformat_minor": 0
}
